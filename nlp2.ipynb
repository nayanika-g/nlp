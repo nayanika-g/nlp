{
 "cells": [
  {
   "cell_type": "code",
   "execution_count": 1,
   "metadata": {},
   "outputs": [],
   "source": [
    "import pandas as pd\n",
    "import numpy as np\n",
    "import sqlite3"
   ]
  },
  {
   "cell_type": "code",
   "execution_count": 2,
   "metadata": {},
   "outputs": [],
   "source": [
    "filepath = '/Users/gracegupta/Downloads/project final with type 2_all unique_1_31_2019 (1).csv'"
   ]
  },
  {
   "cell_type": "code",
   "execution_count": 3,
   "metadata": {},
   "outputs": [
    {
     "data": {
      "text/html": [
       "<div>\n",
       "<style scoped>\n",
       "    .dataframe tbody tr th:only-of-type {\n",
       "        vertical-align: middle;\n",
       "    }\n",
       "\n",
       "    .dataframe tbody tr th {\n",
       "        vertical-align: top;\n",
       "    }\n",
       "\n",
       "    .dataframe thead th {\n",
       "        text-align: right;\n",
       "    }\n",
       "</style>\n",
       "<table border=\"1\" class=\"dataframe\">\n",
       "  <thead>\n",
       "    <tr style=\"text-align: right;\">\n",
       "      <th></th>\n",
       "      <th>id</th>\n",
       "      <th>activity</th>\n",
       "      <th>administering_ic</th>\n",
       "      <th>application_id</th>\n",
       "      <th>application_type</th>\n",
       "      <th>arra_funded</th>\n",
       "      <th>award_notice_date</th>\n",
       "      <th>budget_end</th>\n",
       "      <th>budget_start</th>\n",
       "      <th>direct_cost_amt</th>\n",
       "      <th>...</th>\n",
       "      <th>project_start</th>\n",
       "      <th>study_section</th>\n",
       "      <th>study_section_name</th>\n",
       "      <th>subproject_id</th>\n",
       "      <th>suffix</th>\n",
       "      <th>support_year</th>\n",
       "      <th>total_cost</th>\n",
       "      <th>total_cost_sub_project</th>\n",
       "      <th>abstract_text</th>\n",
       "      <th>uni_type</th>\n",
       "    </tr>\n",
       "  </thead>\n",
       "  <tbody>\n",
       "    <tr>\n",
       "      <th>0</th>\n",
       "      <td>0</td>\n",
       "      <td>A03</td>\n",
       "      <td>AH</td>\n",
       "      <td>2056338</td>\n",
       "      <td>1</td>\n",
       "      <td>NaN</td>\n",
       "      <td>1994-07-01</td>\n",
       "      <td>1995-06-30</td>\n",
       "      <td>1994-07-01</td>\n",
       "      <td>NaN</td>\n",
       "      <td>...</td>\n",
       "      <td>1994-07-01</td>\n",
       "      <td>NSS</td>\n",
       "      <td>NaN</td>\n",
       "      <td>NaN</td>\n",
       "      <td>NaN</td>\n",
       "      <td>1</td>\n",
       "      <td>NaN</td>\n",
       "      <td>NaN</td>\n",
       "      <td>NaN</td>\n",
       "      <td>NaN</td>\n",
       "    </tr>\n",
       "    <tr>\n",
       "      <th>1</th>\n",
       "      <td>0</td>\n",
       "      <td>A03</td>\n",
       "      <td>AH</td>\n",
       "      <td>2056372</td>\n",
       "      <td>1</td>\n",
       "      <td>NaN</td>\n",
       "      <td>1995-05-19</td>\n",
       "      <td>1996-06-30</td>\n",
       "      <td>1995-07-01</td>\n",
       "      <td>NaN</td>\n",
       "      <td>...</td>\n",
       "      <td>1995-07-01</td>\n",
       "      <td>NSS</td>\n",
       "      <td>NaN</td>\n",
       "      <td>NaN</td>\n",
       "      <td>NaN</td>\n",
       "      <td>1</td>\n",
       "      <td>NaN</td>\n",
       "      <td>NaN</td>\n",
       "      <td>NaN</td>\n",
       "      <td>NaN</td>\n",
       "    </tr>\n",
       "  </tbody>\n",
       "</table>\n",
       "<p>2 rows × 39 columns</p>\n",
       "</div>"
      ],
      "text/plain": [
       "   id activity administering_ic  application_id  application_type  \\\n",
       "0   0      A03               AH         2056338                 1   \n",
       "1   0      A03               AH         2056372                 1   \n",
       "\n",
       "   arra_funded award_notice_date  budget_end budget_start  direct_cost_amt  \\\n",
       "0          NaN        1994-07-01  1995-06-30   1994-07-01              NaN   \n",
       "1          NaN        1995-05-19  1996-06-30   1995-07-01              NaN   \n",
       "\n",
       "    ...    project_start  study_section  study_section_name  subproject_id  \\\n",
       "0   ...       1994-07-01            NSS                 NaN            NaN   \n",
       "1   ...       1995-07-01            NSS                 NaN            NaN   \n",
       "\n",
       "  suffix  support_year  total_cost total_cost_sub_project abstract_text  \\\n",
       "0    NaN             1         NaN                    NaN           NaN   \n",
       "1    NaN             1         NaN                    NaN           NaN   \n",
       "\n",
       "  uni_type  \n",
       "0      NaN  \n",
       "1      NaN  \n",
       "\n",
       "[2 rows x 39 columns]"
      ]
     },
     "execution_count": 3,
     "metadata": {},
     "output_type": "execute_result"
    }
   ],
   "source": [
    "# Look at the first few rows of the CSV file\n",
    "pd.read_csv(filepath, nrows=2).head()"
   ]
  },
  {
   "cell_type": "code",
   "execution_count": 4,
   "metadata": {},
   "outputs": [],
   "source": [
    "appended_data = []\n",
    "chunksize = 10 ** 6\n",
    "for chunk in pd.read_csv(filepath, chunksize=chunksize):\n",
    "    appended_data.append(chunk[['abstract_text', 'uni_type']])"
   ]
  },
  {
   "cell_type": "code",
   "execution_count": 5,
   "metadata": {},
   "outputs": [],
   "source": [
    "appended_data = pd.concat(appended_data)"
   ]
  },
  {
   "cell_type": "code",
   "execution_count": 6,
   "metadata": {},
   "outputs": [
    {
     "name": "stdout",
     "output_type": "stream",
     "text": [
      "  abstract_text uni_type\n",
      "0           NaN      NaN\n",
      "1           NaN      NaN\n",
      "2           NaN      NaN\n",
      "3           NaN      NaN\n",
      "4           NaN      NaN\n"
     ]
    }
   ],
   "source": [
    "print(appended_data.head())"
   ]
  },
  {
   "cell_type": "code",
   "execution_count": 7,
   "metadata": {},
   "outputs": [
    {
     "name": "stdout",
     "output_type": "stream",
     "text": [
      "(2458227, 2)\n"
     ]
    }
   ],
   "source": [
    "print(appended_data.shape)"
   ]
  },
  {
   "cell_type": "markdown",
   "metadata": {},
   "source": [
    "# Get all abstracts from R1 and R2 schools."
   ]
  },
  {
   "cell_type": "code",
   "execution_count": 8,
   "metadata": {},
   "outputs": [],
   "source": [
    "isR1 = appended_data['uni_type'] == 'R1'"
   ]
  },
  {
   "cell_type": "code",
   "execution_count": 9,
   "metadata": {},
   "outputs": [
    {
     "name": "stdout",
     "output_type": "stream",
     "text": [
      "                                        abstract_text uni_type\n",
      "20     DESCRIPTION (provided by applicant):    The...       R1\n",
      "39  Project 2 - Project Summary/Abstract The proje...       R1\n",
      "45  Abstract/Summary (Administrative Core; Core 1)...       R1\n",
      "46  The analysis and visualization of high field m...       R1\n",
      "49  Invasive cervical cancer (ICC) is the most com...       R1\n"
     ]
    }
   ],
   "source": [
    "print(appended_data[isR1].head())"
   ]
  },
  {
   "cell_type": "code",
   "execution_count": 10,
   "metadata": {},
   "outputs": [
    {
     "name": "stdout",
     "output_type": "stream",
     "text": [
      "(250497, 2)\n"
     ]
    }
   ],
   "source": [
    "print(appended_data[isR1].shape)"
   ]
  },
  {
   "cell_type": "code",
   "execution_count": 11,
   "metadata": {},
   "outputs": [],
   "source": [
    "isR2 = appended_data['uni_type'] == 'R2'"
   ]
  },
  {
   "cell_type": "code",
   "execution_count": 12,
   "metadata": {},
   "outputs": [
    {
     "name": "stdout",
     "output_type": "stream",
     "text": [
      "                                         abstract_text uni_type\n",
      "218  ?    DESCRIPTION (provided by applicant): Exec...       R2\n",
      "322  PROJECT SUMMARY (See instructions):  African-A...       R2\n",
      "327  To understand how signaling proteins function,...       R2\n",
      "358  Innate immunity is an ancient system that prev...       R2\n",
      "589  PROJECT SUMMARY  Fibrolamellar hepatocellular ...       R2\n"
     ]
    }
   ],
   "source": [
    "print(appended_data[isR2].head())"
   ]
  },
  {
   "cell_type": "code",
   "execution_count": 13,
   "metadata": {},
   "outputs": [
    {
     "name": "stdout",
     "output_type": "stream",
     "text": [
      "(22241, 2)\n"
     ]
    }
   ],
   "source": [
    "print(appended_data[isR2].shape)"
   ]
  },
  {
   "cell_type": "markdown",
   "metadata": {},
   "source": [
    "# Get cancer-only abstracts for R1 and R2 schools."
   ]
  },
  {
   "cell_type": "code",
   "execution_count": 15,
   "metadata": {},
   "outputs": [],
   "source": [
    "abstracts_R2 = appended_data[isR2]['abstract_text']"
   ]
  },
  {
   "cell_type": "code",
   "execution_count": 29,
   "metadata": {},
   "outputs": [],
   "source": [
    "abstracts_R2 = abstracts_R2.dropna()"
   ]
  },
  {
   "cell_type": "code",
   "execution_count": 152,
   "metadata": {},
   "outputs": [
    {
     "name": "stdout",
     "output_type": "stream",
     "text": [
      "218    ?    DESCRIPTION (provided by applicant): Exec...\n",
      "Name: abstract_text, dtype: object\n"
     ]
    }
   ],
   "source": [
    "print(abstracts_R2[:1])"
   ]
  },
  {
   "cell_type": "code",
   "execution_count": 155,
   "metadata": {},
   "outputs": [],
   "source": [
    "cancer_abstracts_R2 = []\n",
    "for doc in abstracts_R2:\n",
    "    if 'cancer' in doc:\n",
    "        cancer_abstracts_R2.append(doc)"
   ]
  },
  {
   "cell_type": "code",
   "execution_count": 156,
   "metadata": {},
   "outputs": [
    {
     "name": "stdout",
     "output_type": "stream",
     "text": [
      "2238\n"
     ]
    }
   ],
   "source": [
    "print(len(cancer_abstracts_R2))"
   ]
  },
  {
   "cell_type": "code",
   "execution_count": 157,
   "metadata": {},
   "outputs": [
    {
     "name": "stdout",
     "output_type": "stream",
     "text": [
      "['To understand how signaling proteins function, it is crucial to know the timeordered sequence of events that lead to the signaling state. When the messenger is chemical, the time required to diffuse to and bind in the active site of a signaling protein is typically far longer than the timescale for protein conformational change [1]. For the structural determination of the kinetics of enzymatic reactions we will focus on small GTPases and their co-enzymes. Small GTPases are molecular switches that cycle between a GTP-bound active and a GDP-bound inactive form. The switch is catalyzed by Guanine nucleotide Exchange Factors (GEFs) and GTPase-Activating Proteins (GAPs), the latter catalyze the hydrolysis of GTP to GDP to deactivate the small GTPase. This system is of very high, general importance in cell biology with particular impact on disease processes, especially cancer, but also several infectious diseases. For proof-ofprinciple, we chose the Arl3-RP2 complex as GTPase-GAP pair [2]. The gene encoding for the GAP protein RP2 (Retinitis pigmentosa 2) is highly mutated in patients of X-linked Retinitis pigmentosa, with mutational hotspots in residues catalyzing the GAP reaction on Arl3. Retinitis pigmentosa refers to a heterogeneous group of inherited ocular diseases that result in a progressive retinal degeneration affecting 1 in 3,000?5,000 people.']\n"
     ]
    }
   ],
   "source": [
    "print(cancer_abstracts_R2[:1])"
   ]
  },
  {
   "cell_type": "code",
   "execution_count": 158,
   "metadata": {},
   "outputs": [],
   "source": [
    "abstracts_R1 = appended_data[isR1]['abstract_text']"
   ]
  },
  {
   "cell_type": "code",
   "execution_count": 159,
   "metadata": {},
   "outputs": [],
   "source": [
    "abstracts_R1 = abstracts_R1.dropna()"
   ]
  },
  {
   "cell_type": "code",
   "execution_count": 160,
   "metadata": {},
   "outputs": [
    {
     "name": "stdout",
     "output_type": "stream",
     "text": [
      "20       DESCRIPTION (provided by applicant):    The...\n",
      "Name: abstract_text, dtype: object\n"
     ]
    }
   ],
   "source": [
    "print(abstracts_R1[:1])"
   ]
  },
  {
   "cell_type": "code",
   "execution_count": 161,
   "metadata": {},
   "outputs": [],
   "source": [
    "cancer_abstracts_R1 = []\n",
    "for doc in abstracts_R1:\n",
    "    if 'cancer' in doc:\n",
    "        cancer_abstracts_R1.append(doc)"
   ]
  },
  {
   "cell_type": "code",
   "execution_count": 162,
   "metadata": {},
   "outputs": [
    {
     "name": "stdout",
     "output_type": "stream",
     "text": [
      "36128\n"
     ]
    }
   ],
   "source": [
    "print(len(cancer_abstracts_R1))"
   ]
  },
  {
   "cell_type": "code",
   "execution_count": 163,
   "metadata": {},
   "outputs": [
    {
     "name": "stdout",
     "output_type": "stream",
     "text": [
      "['   DESCRIPTION (provided by applicant):    The major goal of the Biomedical Research Tower (BRT) is to create a multidisciplinary biomedical research and education center for The Ohio State University Medical Center (OSUMC) that will be a centerpiece of a dramatically enhanced health sciences campus. Integral to the University\\'s Academic Plan for becoming a top public research institution, the BRT will greatly advance the academic mission of the University while bringing enormous value in improved health care, advanced technology, and economic growth to the State of Ohio. The specific renovation project being proposed is for the \"buildout\" of a floor of the BRT (approximately 24,000 asf) to centralize and support one of the fastest growing and developing areas of cancer research, the Experimental Therapeutics Program (ETP) of The Ohio State University Comprehensive Cancer Center (OSUCCC).       The ETP plays a critical role in the discovery and development of new cancer therapies. A strong tradition of therapeutic research has been the focus of our nationally recognized program enabling both the design and conduct of trials at the initial interface between basic and clinical research for \"first in human\" studies. The explosion in knowledge of molecular genetics has had a profound impact on understanding both efficacy and toxicity assessments in patients on experimental clinical trials. These remarkable advances have paved the way for incorporating pharmacodynamics, pharmacokinetics, and pharmacogenomics investigations into the evaluation of these newer therapies. Validation of the scientific \"proof of principle\" underlying each new therapeutic approach has been mandated. The requested federal funding will enable our institution to bring highly trained experts in drug discovery and development into close proximity, and thus improve the scientific process of discovering new therapeutic approaches for patients with cancer.       Furthermore, the proposed construction of a dedicated floor for experimental therapeutics within the BRT will facilitate a planned expansion of faculty recruitment targeting specific areas of solid tumor oncology. Our Comprehensive Cancer Center in conjunction with the College of Medicine has outlined a plan for recruitment of at least twelve new investigators. The specific focus of the recruitments will include: a Director of Gastrointestinal Malignancy;a Director of Head and Neck Medical Oncology;a senior physician scientist with expertise in multiple myeloma;three junior faculty investigators in solid tumor oncology;and two additional clinical investigators in hematological malignancies (leukemia and lymphoma). In addition, the recruitment plan calls for three additional basic scientists (PhD\\'s) with a senior basic scientist to direct and coordinate phase I activities in the James Cancer Hospital. Several of these individuals have already been identified, and have just re-located to The Ohio State University. The success in recruitment will necessitate identification of new space because the existing peer reviewed research funding of the established investigators also continues to grow. Thus, the expansion of new space in the BRT will both enhance research productivity, and allow the full recruitment plan to be executed over the next three years. While the initial plans call for the recruitment of specific investigators into Oncology, there is a long-term initiative, OSU Project Cancer, designed to support a larger expansion, including the recruitment of 90 individuals, with a major emphasis being the development of Solid Tumor Oncology.       The development of the ETP at Ohio State will enhance access to outstanding patient care, promising and innovative research protocols, and exemplary teaching. Recruiting top caliber faculty to fill voids in the Division of Hematology and Medical Oncology in the areas of head and neck cancer, lung cancer, gastrointestinal cancers, and genitourinary malignancies will enable our physicians to provide disease specific expertise in therapeutics that will have a national impact on fatal diseases. In this manner, Ohio State will also be a beacon for training the next generation of scientists committed to experimental therapeutics. This cadre of multi-disciplinary experts will spread the scientific approach for translational research in cancer treatment. With a significant academic list of accomplishments in a focused specialty, our cancer program will be recognized as one of the ten best in the United States.        ']\n"
     ]
    }
   ],
   "source": [
    "print(cancer_abstracts_R1[:1])"
   ]
  },
  {
   "cell_type": "markdown",
   "metadata": {},
   "source": [
    "# Do preprocessing with lemmatization."
   ]
  },
  {
   "cell_type": "code",
   "execution_count": 164,
   "metadata": {},
   "outputs": [
    {
     "name": "stdout",
     "output_type": "stream",
     "text": [
      "[nltk_data] Downloading package punkt to\n",
      "[nltk_data]     /Users/gracegupta/nltk_data...\n",
      "[nltk_data]   Package punkt is already up-to-date!\n",
      "[nltk_data] Downloading package averaged_perceptron_tagger to\n",
      "[nltk_data]     /Users/gracegupta/nltk_data...\n",
      "[nltk_data]   Package averaged_perceptron_tagger is already up-to-\n",
      "[nltk_data]       date!\n"
     ]
    }
   ],
   "source": [
    "import nltk\n",
    "nltk.download('punkt')\n",
    "nltk.download('averaged_perceptron_tagger')\n",
    "from sklearn.feature_extraction.text import CountVectorizer\n",
    "from nltk.tokenize import RegexpTokenizer"
   ]
  },
  {
   "cell_type": "code",
   "execution_count": 165,
   "metadata": {},
   "outputs": [],
   "source": [
    "from nltk.corpus import stopwords"
   ]
  },
  {
   "cell_type": "code",
   "execution_count": 166,
   "metadata": {},
   "outputs": [
    {
     "name": "stdout",
     "output_type": "stream",
     "text": [
      "[nltk_data] Downloading package wordnet to\n",
      "[nltk_data]     /Users/gracegupta/nltk_data...\n",
      "[nltk_data]   Package wordnet is already up-to-date!\n"
     ]
    },
    {
     "data": {
      "text/plain": [
       "True"
      ]
     },
     "execution_count": 166,
     "metadata": {},
     "output_type": "execute_result"
    }
   ],
   "source": [
    "nltk.download('wordnet')"
   ]
  },
  {
   "cell_type": "code",
   "execution_count": 167,
   "metadata": {},
   "outputs": [],
   "source": [
    "from nltk.stem import WordNetLemmatizer\n",
    "from nltk import pos_tag, word_tokenize"
   ]
  },
  {
   "cell_type": "code",
   "execution_count": 168,
   "metadata": {},
   "outputs": [],
   "source": [
    "def preprocessing(text):\n",
    "    # tokenize into words\n",
    "    tokens = [word for sent in nltk.sent_tokenize(text) for word in nltk.word_tokenize(sent)]\n",
    "\n",
    "    # remove stopwords\n",
    "    stop = stopwords.words('english')\n",
    "    tokens = [token for token in tokens if token not in stop]\n",
    "\n",
    "    # remove words less than three letters\n",
    "    tokens = [word for word in tokens if len(word) >= 3]\n",
    "\n",
    "    # lower capitalization\n",
    "    tokens = [word.lower() for word in tokens]\n",
    "\n",
    "    # lemmatize\n",
    "    lmtzr = WordNetLemmatizer()\n",
    "    tokens = [lmtzr.lemmatize(word) for word in tokens]\n",
    "    preprocessed_text= ' '.join(tokens)\n",
    "\n",
    "    return preprocessed_text "
   ]
  },
  {
   "cell_type": "code",
   "execution_count": 169,
   "metadata": {},
   "outputs": [],
   "source": [
    "processed_abstracts_R1 = []\n",
    "for item in cancer_abstracts_R1:\n",
    "    processed_abstracts_R1.append(preprocessing(item))"
   ]
  },
  {
   "cell_type": "code",
   "execution_count": 170,
   "metadata": {},
   "outputs": [],
   "source": [
    "def get_top_n_words(corpus, n=None):\n",
    "    \"\"\"\n",
    "    List the top n words in a vocabulary according to occurrence in a text corpus.\n",
    "    \"\"\"\n",
    "    vec = CountVectorizer().fit(corpus)\n",
    "    bag_of_words = vec.transform(corpus)\n",
    "    sum_words = bag_of_words.sum(axis=0) \n",
    "    words_freq = [(word, sum_words[0, idx]) for word, idx in     vec.vocabulary_.items()]\n",
    "    words_freq =sorted(words_freq, key = lambda x: x[1], reverse=True)\n",
    "    return words_freq[:n]"
   ]
  },
  {
   "cell_type": "code",
   "execution_count": 171,
   "metadata": {},
   "outputs": [
    {
     "data": {
      "text/plain": [
       "[('cancer', 153103),\n",
       " ('cell', 111942),\n",
       " ('the', 99742),\n",
       " ('research', 63670),\n",
       " ('study', 57103),\n",
       " ('tumor', 53767),\n",
       " ('aim', 42709),\n",
       " ('protein', 38524),\n",
       " ('clinical', 37077),\n",
       " ('specific', 35479),\n",
       " ('mechanism', 34077),\n",
       " ('gene', 33924),\n",
       " ('human', 31612),\n",
       " ('program', 31480),\n",
       " ('patient', 30986),\n",
       " ('new', 30946),\n",
       " ('development', 30365),\n",
       " ('disease', 29152),\n",
       " ('this', 28929),\n",
       " ('project', 28759)]"
      ]
     },
     "execution_count": 171,
     "metadata": {},
     "output_type": "execute_result"
    }
   ],
   "source": [
    "get_top_n_words(processed_abstracts_R1, n=20)"
   ]
  },
  {
   "cell_type": "code",
   "execution_count": 172,
   "metadata": {},
   "outputs": [],
   "source": [
    "word_count_vector=cvec.fit_transform(processed_abstracts_R1)"
   ]
  },
  {
   "cell_type": "code",
   "execution_count": 173,
   "metadata": {},
   "outputs": [
    {
     "data": {
      "text/plain": [
       "['description',\n",
       " 'provided',\n",
       " 'applicant',\n",
       " 'goal',\n",
       " 'research',\n",
       " 'center',\n",
       " 'university',\n",
       " 'health',\n",
       " 'growth',\n",
       " 'specific',\n",
       " 'project',\n",
       " 'proposed',\n",
       " 'support',\n",
       " 'therapeutic',\n",
       " 'program',\n",
       " 'role',\n",
       " 'development',\n",
       " 'new',\n",
       " 'therapy',\n",
       " 'trial']"
      ]
     },
     "execution_count": 173,
     "metadata": {},
     "output_type": "execute_result"
    }
   ],
   "source": [
    "list(cvec.vocabulary_.keys())[:20]"
   ]
  },
  {
   "cell_type": "code",
   "execution_count": 174,
   "metadata": {},
   "outputs": [],
   "source": [
    "processed_abstracts_R2 = []\n",
    "for item in cancer_abstracts_R2:\n",
    "    processed_abstracts_R2.append(preprocessing(item))"
   ]
  },
  {
   "cell_type": "code",
   "execution_count": 143,
   "metadata": {},
   "outputs": [
    {
     "data": {
      "text/plain": [
       "[('cell', 8756),\n",
       " ('cancer', 7847),\n",
       " ('the', 5775),\n",
       " ('study', 3580),\n",
       " ('protein', 3574),\n",
       " ('research', 3370),\n",
       " ('tumor', 2805),\n",
       " ('mechanism', 2554),\n",
       " ('aim', 2541),\n",
       " ('specific', 2189),\n",
       " ('disease', 2111),\n",
       " ('gene', 2103),\n",
       " ('development', 2080),\n",
       " ('human', 2068),\n",
       " ('dna', 2031),\n",
       " ('role', 2027),\n",
       " ('new', 1856),\n",
       " ('function', 1786),\n",
       " ('activity', 1722),\n",
       " ('this', 1698)]"
      ]
     },
     "execution_count": 143,
     "metadata": {},
     "output_type": "execute_result"
    }
   ],
   "source": [
    "get_top_n_words(processed_abstracts_R2, n=20)"
   ]
  },
  {
   "cell_type": "code",
   "execution_count": 175,
   "metadata": {},
   "outputs": [],
   "source": [
    "cvec2=CountVectorizer(ngram_range=(1,2), min_df=0.1, max_df=0.7, max_features=100)"
   ]
  },
  {
   "cell_type": "code",
   "execution_count": 176,
   "metadata": {},
   "outputs": [],
   "source": [
    "word_count_vector2=cvec2.fit_transform(processed_abstracts_R2)"
   ]
  },
  {
   "cell_type": "code",
   "execution_count": 178,
   "metadata": {},
   "outputs": [
    {
     "data": {
      "text/plain": [
       "['signaling',\n",
       " 'protein',\n",
       " 'function',\n",
       " 'lead',\n",
       " 'molecular',\n",
       " 'factor',\n",
       " 'this',\n",
       " 'system',\n",
       " 'high',\n",
       " 'biology',\n",
       " 'disease',\n",
       " 'process',\n",
       " 'also',\n",
       " 'complex',\n",
       " 'gene',\n",
       " 'patient',\n",
       " 'result',\n",
       " 'description',\n",
       " 'provided',\n",
       " 'applicant']"
      ]
     },
     "execution_count": 178,
     "metadata": {},
     "output_type": "execute_result"
    }
   ],
   "source": [
    "list(cvec2.vocabulary_.keys())[:20]"
   ]
  }
 ],
 "metadata": {
  "kernelspec": {
   "display_name": "Python 3",
   "language": "python",
   "name": "python3"
  },
  "language_info": {
   "codemirror_mode": {
    "name": "ipython",
    "version": 3
   },
   "file_extension": ".py",
   "mimetype": "text/x-python",
   "name": "python",
   "nbconvert_exporter": "python",
   "pygments_lexer": "ipython3",
   "version": "3.6.5"
  }
 },
 "nbformat": 4,
 "nbformat_minor": 2
}
